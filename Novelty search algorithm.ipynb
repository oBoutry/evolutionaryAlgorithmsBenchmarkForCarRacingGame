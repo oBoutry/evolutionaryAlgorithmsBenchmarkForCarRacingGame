{
 "cells": [
  {
   "cell_type": "code",
   "execution_count": 7,
   "metadata": {},
   "outputs": [],
   "source": [
    "using Plots\n",
    "using Random\n",
    "using LinearAlgebra\n",
    "using Statistics"
   ]
  },
  {
   "cell_type": "code",
   "execution_count": 2,
   "metadata": {},
   "outputs": [
    {
     "data": {
      "text/plain": [
       "track"
      ]
     },
     "execution_count": 2,
     "metadata": {},
     "output_type": "execute_result"
    }
   ],
   "source": [
    "mutable struct track\n",
    "    road::BitArray\n",
    "end\n",
    "\n",
    "function track(n::Int64)\n",
    "    track(falses(n,n))\n",
    "end"
   ]
  },
  {
   "cell_type": "code",
   "execution_count": 2,
   "metadata": {},
   "outputs": [
    {
     "ename": "UndefVarError",
     "evalue": "UndefVarError: track not defined",
     "output_type": "error",
     "traceback": [
      "UndefVarError: track not defined",
      "",
      "Stacktrace:",
      " [1] top-level scope at In[2]:1"
     ]
    }
   ],
   "source": [
    "function right!(tr::track,pos::Int64,dir::Int64,larg::Int64)\n",
    "    r = tr.road\n",
    "    dir2 = dir%4\n",
    "    if dir2 == 0\n",
    "        for i in 0:larg-1\n",
    "            r[pos + i*n : pos + (larg-1) + i*n] = trues(larg)\n",
    "        end\n",
    "        pos = pos-1\n",
    "    end\n",
    "    if dir2 == 1\n",
    "        for i in 0:larg-1\n",
    "            r[pos - i*n : pos + (larg-1) - i*n] = trues(larg)\n",
    "        end\n",
    "        pos = pos+n\n",
    "    end\n",
    "    \n",
    "    if dir2 == 2\n",
    "        for i in 0:larg-1\n",
    "            r[pos - i*n - (larg-1): pos - i*n] = trues(larg)\n",
    "        end\n",
    "        pos = pos+1\n",
    "    end\n",
    "    \n",
    "    if dir2 == 3\n",
    "        for i in 0:larg-1\n",
    "            r[pos + i*n - (larg-1): pos + i*n] = trues(larg)\n",
    "        end\n",
    "        pos = pos-n\n",
    "    end\n",
    "    \n",
    "    r[pos]=true\n",
    "    dir = dir-1\n",
    "    \n",
    "    (pos,dir)\n",
    "end\n",
    "\n",
    "\n",
    "function left!(tr::track,pos::Int64,dir::Int64,larg::Int64)\n",
    "    r = tr.road\n",
    "    dir2 = dir%4\n",
    "    if dir2 == 0\n",
    "        for i in 0:larg-1\n",
    "            r[pos + i*n : pos + (larg-1) + i*n] = trues(larg)\n",
    "        end\n",
    "        pos = pos+(larg)*(n+1)-n\n",
    "    end\n",
    "    \n",
    "    if dir2 == 1\n",
    "        for i in 0:larg-1\n",
    "            r[pos - i*n : pos + (larg-1) - i*n] = trues(larg)\n",
    "        end\n",
    "        pos = pos-(larg)*(n-1)-1\n",
    "    end\n",
    "    \n",
    "    if dir2 == 2\n",
    "        for i in 0:larg-1\n",
    "            r[pos - i*n - (larg-1): pos - i*n] = trues(larg)\n",
    "        end\n",
    "        pos = pos-(larg)*(n+1)+n\n",
    "    end\n",
    "    \n",
    "    if dir2 == 3\n",
    "        for i in 0:larg-1\n",
    "            r[pos + i*n - (larg-1): pos + i*n] = trues(larg)\n",
    "        end\n",
    "        pos = pos+(larg)*(n-1)+1\n",
    "    end\n",
    "    \n",
    "    \n",
    "    r[pos]=true\n",
    "    dir = dir+1\n",
    "    \n",
    "    (pos,dir)\n",
    "end\n",
    "\n",
    "function droit!(tr::track,pos::Int64,dir::Int64,larg::Int64,long::Int64)\n",
    "    r = tr.road\n",
    "    dir2 = dir%4\n",
    "\n",
    "    if dir2 == 0\n",
    "        for i in 0:long-1\n",
    "            r[pos + i*n : pos + (larg-1) + i*n] = trues(larg)\n",
    "        end\n",
    "        pos = pos+(long)*n\n",
    "    end\n",
    "    \n",
    "    if dir2 == 1\n",
    "        for i in 0:larg-1\n",
    "            r[pos - i*n : pos - i*n + (long-1)] = trues(long)\n",
    "        end\n",
    "        pos = pos+long\n",
    "    end\n",
    "    \n",
    "    if dir2 == 2\n",
    "        for i in 0:long-1\n",
    "            r[pos - i*n - (larg-1) : pos - i*n] = trues(larg)\n",
    "        end\n",
    "        pos = pos-(long)*n\n",
    "    end\n",
    "    \n",
    "    if dir2 == 3\n",
    "        for i in 0:larg-1\n",
    "            r[pos + i*n - (long-1) : pos + i*n] = trues(long)\n",
    "        end\n",
    "        pos = pos-long\n",
    "    end\n",
    "    \n",
    "    r[pos]=true\n",
    "    (pos,dir)\n",
    "end\n",
    "\n",
    "function long!(tr::track,pos::Int64,dir::Int64,larg::Int64)\n",
    "    droit!(tr::track,pos::Int64,dir::Int64,larg::Int64,12)\n",
    "end\n",
    "\n",
    "function short!(tr::track,pos::Int64,dir::Int64,larg::Int64)\n",
    "    droit!(tr::track,pos::Int64,dir::Int64,larg::Int64,3)\n",
    "end\n",
    "\n",
    "n = 100\n",
    "R = track(n)\n",
    "pos = 5550\n",
    "larg = 6\n",
    "\n",
    "R.road[5550 + 1] = true\n",
    "dir = 23\n",
    "left!(R,pos,dir,larg)\n",
    "\n",
    "#plot(heatmap(R.road),size=(650,600))"
   ]
  },
  {
   "cell_type": "code",
   "execution_count": 3,
   "metadata": {},
   "outputs": [
    {
     "ename": "UndefVarError",
     "evalue": "UndefVarError: track not defined",
     "output_type": "error",
     "traceback": [
      "UndefVarError: track not defined",
      "",
      "Stacktrace:",
      " [1] top-level scope at In[3]:1"
     ]
    }
   ],
   "source": [
    "function build!(tr::track,L::Array{Int64})\n",
    "    pos = 5001\n",
    "    dir = 100\n",
    "    tr.road[5001-n] = true\n",
    "    for i in L\n",
    "        if i == 1\n",
    "            (pos,dir) = short!(tr,pos,dir,larg)\n",
    "        end\n",
    "        \n",
    "        if i == 2\n",
    "            (pos,dir) = long!(tr,pos,dir,larg)\n",
    "        end\n",
    "        \n",
    "        if i == 3\n",
    "            (pos,dir) = right!(tr,pos,dir,larg)\n",
    "        end\n",
    "        \n",
    "        if i == 4\n",
    "            (pos,dir) = left!(tr,pos,dir,larg)\n",
    "        end\n",
    "    end\n",
    "end\n",
    "\n",
    "\n",
    "R1 = track(n)\n",
    "L = [1,4,2,3,4,2,2,2,4,2,2,2,4,3,4,1,4,2,2,3,2,2,1,2,4]\n",
    "#L = [1,4,2]\n",
    "\n",
    "build!(R1,L)\n",
    "plot(heatmap(R1.road),size=(700,600))"
   ]
  },
  {
   "cell_type": "code",
   "execution_count": 4,
   "metadata": {},
   "outputs": [
    {
     "data": {
      "text/plain": [
       "ind"
      ]
     },
     "execution_count": 4,
     "metadata": {},
     "output_type": "execute_result"
    }
   ],
   "source": [
    "mutable struct ind\n",
    "    genes::Array{Float64}\n",
    "    fitness::Float64\n",
    "end\n",
    "\n",
    "function ind(x::Float64,y::Float64)\n",
    "    ind([x,y],0)\n",
    "end"
   ]
  },
  {
   "cell_type": "code",
   "execution_count": 14,
   "metadata": {},
   "outputs": [
    {
     "data": {
      "text/plain": [
       "5×5 Array{Float64,2}:\n",
       " 1.0  0.0  0.0  0.0  0.0\n",
       " 0.0  1.0  0.0  0.0  0.0\n",
       " 0.0  0.0  1.0  0.0  0.0\n",
       " 0.0  0.0  0.0  1.0  0.0\n",
       " 0.0  0.0  0.0  0.0  1.0"
      ]
     },
     "execution_count": 14,
     "metadata": {},
     "output_type": "execute_result"
    }
   ],
   "source": [
    "#function mutate!(Ind::ind,dx::Float64)\n",
    "\n",
    "Array(Diagonal{Float64}(I, 5))"
   ]
  }
 ],
 "metadata": {
  "kernelspec": {
   "display_name": "Julia 1.4.0",
   "language": "julia",
   "name": "julia-1.4"
  },
  "language_info": {
   "file_extension": ".jl",
   "mimetype": "application/julia",
   "name": "julia",
   "version": "1.4.0"
  }
 },
 "nbformat": 4,
 "nbformat_minor": 2
}
