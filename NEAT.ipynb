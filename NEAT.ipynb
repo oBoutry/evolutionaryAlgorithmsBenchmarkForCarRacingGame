{
 "cells": [
  {
   "cell_type": "markdown",
   "metadata": {},
   "source": [
    "# Car racing game agent evolving through iterations of NEAT algorithm\n"
   ]
  },
  {
   "cell_type": "markdown",
   "metadata": {},
   "source": [
    "**Import of the different functions defined to build a track and move the car around it**"
   ]
  },
  {
   "cell_type": "code",
   "execution_count": 14,
   "metadata": {},
   "outputs": [],
   "source": [
    "using Plots\n",
    "using Random"
   ]
  },
  {
   "cell_type": "markdown",
   "metadata": {},
   "source": [
    "We use a mutable structure ${track}$ which is an array of Int64. It is initialized with only zeros representing blank parts."
   ]
  },
  {
   "cell_type": "code",
   "execution_count": 15,
   "metadata": {},
   "outputs": [
    {
     "data": {
      "text/plain": [
       "track"
      ]
     },
     "execution_count": 15,
     "metadata": {},
     "output_type": "execute_result"
    }
   ],
   "source": [
    "mutable struct track\n",
    "    road::Array{Int64}\n",
    "end\n",
    "\n",
    "function track(n::Int64)\n",
    "    track(zeros(n,n))\n",
    "end"
   ]
  },
  {
   "cell_type": "markdown",
   "metadata": {},
   "source": [
    "We then define several functions dictating the movement of the car around the track."
   ]
  },
  {
   "cell_type": "code",
   "execution_count": 16,
   "metadata": {},
   "outputs": [
    {
     "data": {
      "text/plain": [
       "short! (generic function with 1 method)"
      ]
     },
     "execution_count": 16,
     "metadata": {},
     "output_type": "execute_result"
    }
   ],
   "source": [
    "function right!(tr::track,pos::Int64,dir::Int64,larg::Int64,h::Int64)\n",
    "    r = tr.road\n",
    "    dir2 = dir%4\n",
    "    if dir2 == 0\n",
    "        for i in 0:larg-1\n",
    "            r[pos + i*n : pos + (larg-1) + i*n] = [h+larg - j for j in 1:larg] #ones(larg)*(h+larg-i)\n",
    "        end\n",
    "        pos = pos-1\n",
    "    end\n",
    "    if dir2 == 1\n",
    "        for i in 0:larg-1\n",
    "            r[pos - i*n : pos + (larg-1) - i*n] = ones(larg)*(h+larg-i)\n",
    "        end\n",
    "        pos = pos+n\n",
    "    end\n",
    "    \n",
    "    if dir2 == 2\n",
    "        for i in 0:larg-1\n",
    "            r[pos - i*n - (larg-1): pos - i*n] = [j for j in h:h+larg-1] #ones(larg)*(h+larg-i)\n",
    "        end\n",
    "        pos = pos+1\n",
    "    end\n",
    "    \n",
    "    if dir2 == 3\n",
    "        for i in 0:larg-1\n",
    "            r[pos + i*n - (larg-1): pos + i*n] = ones(larg)*(h+larg-i)\n",
    "        end\n",
    "        pos = pos-n\n",
    "    end\n",
    "    \n",
    "    r[pos]=h\n",
    "    dir = dir-1\n",
    "    \n",
    "    (pos,dir)\n",
    "end\n",
    "\n",
    "\n",
    "function left!(tr::track,pos::Int64,dir::Int64,larg::Int64,h::Int64)\n",
    "    r = tr.road\n",
    "    dir2 = dir%4\n",
    "    if dir2 == 0\n",
    "        for i in 0:larg-1\n",
    "            r[pos + i*n : pos + (larg-1) + i*n] = [j for j in h:h+larg-1] #ones(larg)*(h+i)\n",
    "        end\n",
    "        pos = pos+(larg)*(n+1)-n\n",
    "    end\n",
    "    \n",
    "    if dir2 == 1\n",
    "        for i in 0:larg-1\n",
    "            r[pos - i*n : pos + (larg-1) - i*n] = ones(larg)*(h+i)\n",
    "        end\n",
    "        pos = pos-(larg)*(n-1)-1\n",
    "    end\n",
    "    \n",
    "    if dir2 == 2\n",
    "        for i in 0:larg-1\n",
    "            r[pos - i*n - (larg-1): pos - i*n] = [h+larg - j for j in 1:larg] # ones(larg)*(h+i)\n",
    "        end\n",
    "        pos = pos-(larg)*(n+1)+n\n",
    "    end\n",
    "    \n",
    "    if dir2 == 3\n",
    "        for i in 0:larg-1\n",
    "            r[pos + i*n - (larg-1): pos + i*n] = ones(larg)*(h+i)\n",
    "        end\n",
    "        pos = pos+(larg)*(n-1)+1\n",
    "    end\n",
    "    \n",
    "    \n",
    "    r[pos]=h\n",
    "    dir = dir+1\n",
    "    \n",
    "    (pos,dir)\n",
    "end\n",
    "\n",
    "function droit!(tr::track,pos::Int64,dir::Int64,larg::Int64,long::Int64,h::Int64)\n",
    "    r = tr.road\n",
    "    dir2 = dir%4\n",
    "\n",
    "    if dir2 == 0\n",
    "        for i in 0:long-1\n",
    "            r[pos + i*n : pos + (larg-1) + i*n] = ones(larg)*h\n",
    "        end\n",
    "        pos = pos+(long)*n\n",
    "    end\n",
    "    \n",
    "    if dir2 == 1\n",
    "        for i in 0:larg-1\n",
    "            r[pos - i*n : pos - i*n + (long-1)] = ones(long)*h\n",
    "        end\n",
    "        pos = pos+long\n",
    "    end\n",
    "    \n",
    "    if dir2 == 2\n",
    "        for i in 0:long-1\n",
    "            r[pos - i*n - (larg-1) : pos - i*n] = ones(larg)*h\n",
    "        end\n",
    "        pos = pos-(long)*n\n",
    "    end\n",
    "    \n",
    "    if dir2 == 3\n",
    "        for i in 0:larg-1\n",
    "            r[pos + i*n - (long-1) : pos + i*n] = ones(long)*h\n",
    "        end\n",
    "        pos = pos-long\n",
    "    end\n",
    "    \n",
    "    r[pos]=h\n",
    "    (pos,dir)\n",
    "end\n",
    "\n",
    "function long!(tr::track,pos::Int64,dir::Int64,larg::Int64,h::Int64)\n",
    "    (pos,dir) = short!(tr,pos,dir,larg,h)\n",
    "    (pos,dir) = short!(tr,pos,dir,larg,h+3)\n",
    "    (pos,dir) = short!(tr,pos,dir,larg,h+6)\n",
    "    (pos,dir) = short!(tr,pos,dir,larg,h+9)\n",
    "end\n",
    "\n",
    "function short!(tr::track,pos::Int64,dir::Int64,larg::Int64,h::Int64)\n",
    "    (pos,dir) = droit!(tr,pos,dir,larg,1,h)\n",
    "    (pos,dir) = droit!(tr,pos,dir,larg,1,h+1)\n",
    "    (pos,dir) = droit!(tr,pos,dir,larg,1,h+2)\n",
    "end"
   ]
  },
  {
   "cell_type": "markdown",
   "metadata": {},
   "source": [
    "A function ${build}$ which builds the entire track."
   ]
  },
  {
   "cell_type": "code",
   "execution_count": 17,
   "metadata": {},
   "outputs": [
    {
     "ename": "UndefVarError",
     "evalue": "UndefVarError: larg not defined",
     "output_type": "error",
     "traceback": [
      "UndefVarError: larg not defined",
      "",
      "Stacktrace:",
      " [1] build!(::track, ::Array{Int64,1}) at .\\In[17]:9",
      " [2] top-level scope at In[17]:32"
     ]
    }
   ],
   "source": [
    "function build!(tr::track,L::Array{Int64})\n",
    "    pos = 5010\n",
    "    dir = 100\n",
    "    tr.road[5001-n] = 1\n",
    "    \n",
    "    h = 100\n",
    "    for i in L\n",
    "        if i == 1\n",
    "            (pos,dir) = short!(tr,pos,dir,larg,h)\n",
    "        end\n",
    "        \n",
    "        if i == 2\n",
    "            (pos,dir) = long!(tr,pos,dir,larg,h)\n",
    "            h = h+3\n",
    "        end\n",
    "        \n",
    "        if i == 3\n",
    "            (pos,dir) = right!(tr,pos,dir,larg,h)\n",
    "            h = h+larg\n",
    "        end\n",
    "        \n",
    "        if i == 4\n",
    "            (pos,dir) = left!(tr,pos,dir,larg,h)\n",
    "            h = h+larg\n",
    "        end\n",
    "        h = h + 1\n",
    "    end\n",
    "end\n",
    "\n",
    "R1 = track(n)\n",
    "L = [1,2,4,2,3,4,2,2,2,4,2,2,2,2,4,3,4,1,4,2,2,3,2,2,1,2,4]\n",
    "\n",
    "\n",
    "build!(R1,L)\n",
    "plot(heatmap(R1.road),size=(700,600))"
   ]
  },
  {
   "cell_type": "markdown",
   "metadata": {},
   "source": [
    "We then define our track used for comparison and as an example."
   ]
  },
  {
   "cell_type": "code",
   "execution_count": 18,
   "metadata": {},
   "outputs": [
    {
     "ename": "UndefVarError",
     "evalue": "UndefVarError: larg not defined",
     "output_type": "error",
     "traceback": [
      "UndefVarError: larg not defined",
      "",
      "Stacktrace:",
      " [1] build!(::track, ::Array{Int64,1}) at .\\In[17]:9",
      " [2] top-level scope at In[18]:5"
     ]
    }
   ],
   "source": [
    "n = 100\n",
    "\n",
    "track1 = track(n)\n",
    "L = [1,2,4,2,3,4,2,2,2,4,2,2,2,2,4,3,4,1,4,2,2,3,2,2,1,2,4]\n",
    "\n",
    "\n",
    "build!(track1,L)\n",
    "plot(heatmap(track1.road),size=(700,600))"
   ]
  },
  {
   "cell_type": "markdown",
   "metadata": {},
   "source": [
    "Then our agent ${car}$ with the following attributes:"
   ]
  },
  {
   "cell_type": "code",
   "execution_count": 19,
   "metadata": {},
   "outputs": [
    {
     "data": {
      "text/plain": [
       "car"
      ]
     },
     "execution_count": 19,
     "metadata": {},
     "output_type": "execute_result"
    }
   ],
   "source": [
    "mutable struct car\n",
    "    x::Float64\n",
    "    y::Float64\n",
    "    v::Float64\n",
    "    angle::Float64\n",
    "    a::Float64\n",
    "    braq::Float64\n",
    "    vmax::Float64\n",
    "end\n",
    "\n",
    "function car(x::Float64,y::Float64,angle::Float64)\n",
    "    car(x,y,0,angle,5,3,20) #angle CI\n",
    "end"
   ]
  },
  {
   "cell_type": "code",
   "execution_count": 20,
   "metadata": {},
   "outputs": [
    {
     "data": {
      "text/plain": [
       "move! (generic function with 1 method)"
      ]
     },
     "execution_count": 20,
     "metadata": {},
     "output_type": "execute_result"
    }
   ],
   "source": [
    "function move!(Car::car,input::Int64,dt::Float64)\n",
    "    delta = Car.v*dt\n",
    "    \n",
    "    if input == 1 || input == 2 || input == 8\n",
    "        if Car.v<Car.vmax\n",
    "            delta = delta + 0.5*Car.a*(dt^2)\n",
    "            Car.v = Car.v + Car.a*dt\n",
    "        end\n",
    "    end\n",
    "    \n",
    "    if input == 4 || input == 5 || input == 6\n",
    "        if Car.v>0\n",
    "            delta = delta - 0.5*Car.a*(dt^2)\n",
    "            Car.v = Car.v - Car.a*dt\n",
    "        end\n",
    "    end\n",
    "    \n",
    "    if input == 2 || input == 3 || input == 4\n",
    "        braqv = Car.braq*(1 + 3*Car.v/Car.vmax)\n",
    "        Car.angle = Car.angle - delta/braqv\n",
    "    end\n",
    "    \n",
    "    if input == 6 || input == 7 || input == 8\n",
    "        braqv = Car.braq*(1 + 3*Car.v/Car.vmax)\n",
    "        Car.angle = Car.angle + delta/braqv\n",
    "    end\n",
    "    \n",
    "    Car.x = Car.x + cos(Car.angle)*delta\n",
    "    Car.y = Car.y + sin(Car.angle)*delta\n",
    "end"
   ]
  },
  {
   "cell_type": "markdown",
   "metadata": {},
   "source": [
    "## NEAT algorithm"
   ]
  },
  {
   "cell_type": "markdown",
   "metadata": {},
   "source": [
    "We need first to define the different parameters we will be using when defining our different functions.\n",
    "\n",
    "Thus, the following parameters and values are used as a reference:"
   ]
  },
  {
   "cell_type": "code",
   "execution_count": 21,
   "metadata": {},
   "outputs": [],
   "source": [
    "mutable struct Node\n",
    "    \n",
    "    node_id::Int64\n",
    "    node_type::String\n",
    "    #\"input\", \"output\" or \"hidden\"\n",
    "end"
   ]
  },
  {
   "cell_type": "code",
   "execution_count": 31,
   "metadata": {},
   "outputs": [
    {
     "data": {
      "text/plain": [
       "Node"
      ]
     },
     "execution_count": 31,
     "metadata": {},
     "output_type": "execute_result"
    }
   ],
   "source": [
    "function Node(node_id::Int64, node_type::String)\n",
    "    \n",
    "    Node(node_id, node_type)\n",
    "end"
   ]
  },
  {
   "cell_type": "code",
   "execution_count": 30,
   "metadata": {},
   "outputs": [],
   "source": [
    "mutable struct Connection\n",
    "    \n",
    "    input_node::Node\n",
    "    output_node::Node\n",
    "    weight::Float64\n",
    "    status::Bool\n",
    "    #if status is false, then the connection is disabled\n",
    "    innovation_number::Int64\n",
    "    #this last parameter will allow historical marking\n",
    "end"
   ]
  },
  {
   "cell_type": "code",
   "execution_count": 28,
   "metadata": {},
   "outputs": [
    {
     "data": {
      "text/plain": [
       "Connection"
      ]
     },
     "execution_count": 28,
     "metadata": {},
     "output_type": "execute_result"
    }
   ],
   "source": [
    "function Connection(input_node::Node, output_node::Node, weight::Float64, innovation_number::Float64)\n",
    "    \n",
    "    Connection(input_node, output_node, weight, status=true, innovation_number)\n",
    "end"
   ]
  },
  {
   "cell_type": "code",
   "execution_count": 25,
   "metadata": {},
   "outputs": [],
   "source": [
    "mutable struct Network\n",
    "    \n",
    "    node_genes::Array{Node}\n",
    "    node_connections::Array{Connection}\n",
    "end"
   ]
  },
  {
   "cell_type": "code",
   "execution_count": 26,
   "metadata": {},
   "outputs": [],
   "source": [
    "mutable struct NEAT\n",
    "    #mr stands for mutation rate\n",
    "    mr_change_weight::Float64\n",
    "    \n",
    "    #if a change of weight occurs, the following rates are applied\n",
    "    mr_change_weight_uniform::Float64\n",
    "    mr_change_weight_random::Float64\n",
    "    #the previous mr is equal to 1-mr_change_weight_uniform\n",
    "\n",
    "    mr_add_node::Float64\n",
    "    mr_add_connection::Float64\n",
    "    \n",
    "    percentage_no_co::Float64\n",
    "    #percentage of the population on which mutations are directly applied without the crossover step\n",
    "    \n",
    "    #parameters measuring the distance between two topologies\n",
    "    c1::Float64\n",
    "    c2::Float64\n",
    "    c3::Float64\n",
    "    threshold::Float64\n",
    "    \n",
    "    population::Array{Array{Network}}\n",
    "    offspring::Array{Array{Network}}\n",
    "end"
   ]
  },
  {
   "cell_type": "code",
   "execution_count": 35,
   "metadata": {},
   "outputs": [
    {
     "data": {
      "text/plain": [
       "NEAT"
      ]
     },
     "execution_count": 35,
     "metadata": {},
     "output_type": "execute_result"
    }
   ],
   "source": [
    "function NEAT(pop_size=150::Int64, mr_change_weight=0.8::Float64, mr_change_weight_uniform=0.9::Float64, mr_add_node=0.03::Float64, \n",
    "        mr_add_connection=0.05::Float64, percentage_no_co=0.25::Float64, c1=1.0::Float64, c2=1.0::Float64, c3=0.4::Float64, threshold=3.0::Float64)\n",
    "    \n",
    "    population = Array{Array{Network}}[pop_size]\n",
    "    offspring = Array{Array{Network}}[pop_size]\n",
    "    \n",
    "    NEAT(mr_change_weight, mr_change_weight_uniform, 1.0-mr_change_weight_uniform, mr_add_node, mr_add_connection, percentage_no_co, \n",
    "        c1, c2, c3, threshold, population, offspring)\n",
    "end"
   ]
  },
  {
   "cell_type": "code",
   "execution_count": null,
   "metadata": {},
   "outputs": [],
   "source": []
  }
 ],
 "metadata": {
  "kernelspec": {
   "display_name": "Julia 1.0.5",
   "language": "julia",
   "name": "julia-1.0"
  },
  "language_info": {
   "file_extension": ".jl",
   "mimetype": "application/julia",
   "name": "julia",
   "version": "1.0.5"
  }
 },
 "nbformat": 4,
 "nbformat_minor": 4
}
